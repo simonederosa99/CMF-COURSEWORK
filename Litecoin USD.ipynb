{
 "cells": [
  {
   "cell_type": "markdown",
   "id": "0c96fc14",
   "metadata": {},
   "source": [
    "Historical  data "
   ]
  },
  {
   "cell_type": "code",
   "execution_count": 388,
   "id": "c65a811d",
   "metadata": {},
   "outputs": [],
   "source": [
    "import yfinance as yf\n",
    "import numpy as np\n",
    "import pandas as pd\n",
    "import matplotlib as mpl"
   ]
  },
  {
   "cell_type": "code",
   "execution_count": 389,
   "id": "3f5b88b1",
   "metadata": {},
   "outputs": [
    {
     "name": "stdout",
     "output_type": "stream",
     "text": [
      "[*********************100%***********************]  1 of 1 completed\n"
     ]
    }
   ],
   "source": [
    "initial_data = yf.download('LTC-USD', start='2020-11-01', end='2022-11-01')"
   ]
  },
  {
   "cell_type": "code",
   "execution_count": 390,
   "id": "fb279e60",
   "metadata": {},
   "outputs": [
    {
     "data": {
      "text/html": [
       "<div>\n",
       "<style scoped>\n",
       "    .dataframe tbody tr th:only-of-type {\n",
       "        vertical-align: middle;\n",
       "    }\n",
       "\n",
       "    .dataframe tbody tr th {\n",
       "        vertical-align: top;\n",
       "    }\n",
       "\n",
       "    .dataframe thead th {\n",
       "        text-align: right;\n",
       "    }\n",
       "</style>\n",
       "<table border=\"1\" class=\"dataframe\">\n",
       "  <thead>\n",
       "    <tr style=\"text-align: right;\">\n",
       "      <th></th>\n",
       "      <th>Open</th>\n",
       "      <th>High</th>\n",
       "      <th>Low</th>\n",
       "      <th>Close</th>\n",
       "      <th>Adj Close</th>\n",
       "      <th>Volume</th>\n",
       "    </tr>\n",
       "    <tr>\n",
       "      <th>Date</th>\n",
       "      <th></th>\n",
       "      <th></th>\n",
       "      <th></th>\n",
       "      <th></th>\n",
       "      <th></th>\n",
       "      <th></th>\n",
       "    </tr>\n",
       "  </thead>\n",
       "  <tbody>\n",
       "    <tr>\n",
       "      <th>2020-11-01</th>\n",
       "      <td>55.590260</td>\n",
       "      <td>55.974216</td>\n",
       "      <td>54.259636</td>\n",
       "      <td>55.587624</td>\n",
       "      <td>55.587624</td>\n",
       "      <td>2045991010</td>\n",
       "    </tr>\n",
       "    <tr>\n",
       "      <th>2020-11-02</th>\n",
       "      <td>55.587322</td>\n",
       "      <td>56.710835</td>\n",
       "      <td>53.205944</td>\n",
       "      <td>53.817482</td>\n",
       "      <td>53.817482</td>\n",
       "      <td>3019889902</td>\n",
       "    </tr>\n",
       "    <tr>\n",
       "      <th>2020-11-03</th>\n",
       "      <td>53.817410</td>\n",
       "      <td>54.272400</td>\n",
       "      <td>51.648445</td>\n",
       "      <td>53.819622</td>\n",
       "      <td>53.819622</td>\n",
       "      <td>2580300879</td>\n",
       "    </tr>\n",
       "    <tr>\n",
       "      <th>2020-11-04</th>\n",
       "      <td>53.819469</td>\n",
       "      <td>55.007088</td>\n",
       "      <td>51.606560</td>\n",
       "      <td>54.499104</td>\n",
       "      <td>54.499104</td>\n",
       "      <td>3050534139</td>\n",
       "    </tr>\n",
       "    <tr>\n",
       "      <th>2020-11-05</th>\n",
       "      <td>54.501873</td>\n",
       "      <td>59.223793</td>\n",
       "      <td>54.501873</td>\n",
       "      <td>58.678497</td>\n",
       "      <td>58.678497</td>\n",
       "      <td>3250514599</td>\n",
       "    </tr>\n",
       "  </tbody>\n",
       "</table>\n",
       "</div>"
      ],
      "text/plain": [
       "                 Open       High        Low      Close  Adj Close      Volume\n",
       "Date                                                                         \n",
       "2020-11-01  55.590260  55.974216  54.259636  55.587624  55.587624  2045991010\n",
       "2020-11-02  55.587322  56.710835  53.205944  53.817482  53.817482  3019889902\n",
       "2020-11-03  53.817410  54.272400  51.648445  53.819622  53.819622  2580300879\n",
       "2020-11-04  53.819469  55.007088  51.606560  54.499104  54.499104  3050534139\n",
       "2020-11-05  54.501873  59.223793  54.501873  58.678497  58.678497  3250514599"
      ]
     },
     "execution_count": 390,
     "metadata": {},
     "output_type": "execute_result"
    }
   ],
   "source": [
    "initial_data.head()"
   ]
  },
  {
   "cell_type": "code",
   "execution_count": 391,
   "id": "a540e1a3",
   "metadata": {},
   "outputs": [
    {
     "data": {
      "text/plain": [
       "Date\n",
       "2020-11-01    55.587624\n",
       "2020-11-02    53.817482\n",
       "2020-11-03    53.819622\n",
       "2020-11-04    54.499104\n",
       "2020-11-05    58.678497\n",
       "Name: Adj Close, dtype: float64"
      ]
     },
     "execution_count": 391,
     "metadata": {},
     "output_type": "execute_result"
    }
   ],
   "source": [
    "initial_data['Adj Close'].head()"
   ]
  },
  {
   "cell_type": "code",
   "execution_count": 392,
   "id": "cfe4fb3d",
   "metadata": {},
   "outputs": [
    {
     "name": "stdout",
     "output_type": "stream",
     "text": [
      "<class 'pandas.core.series.Series'>\n",
      "DatetimeIndex: 730 entries, 2020-11-01 to 2022-10-31\n",
      "Series name: Adj Close\n",
      "Non-Null Count  Dtype  \n",
      "--------------  -----  \n",
      "730 non-null    float64\n",
      "dtypes: float64(1)\n",
      "memory usage: 11.4 KB\n"
     ]
    }
   ],
   "source": [
    "data =  initial_data['Adj Close']\n",
    "data.info()"
   ]
  },
  {
   "cell_type": "code",
   "execution_count": 393,
   "id": "74cd3c7f",
   "metadata": {},
   "outputs": [
    {
     "data": {
      "text/plain": [
       "Date\n",
       "2020-11-01    55.587624\n",
       "2020-11-02    53.817482\n",
       "2020-11-03    53.819622\n",
       "2020-11-04    54.499104\n",
       "2020-11-05    58.678497\n",
       "Name: Adj Close, dtype: float64"
      ]
     },
     "execution_count": 393,
     "metadata": {},
     "output_type": "execute_result"
    }
   ],
   "source": [
    "data.head()"
   ]
  },
  {
   "cell_type": "code",
   "execution_count": 394,
   "id": "6730f467",
   "metadata": {},
   "outputs": [
    {
     "data": {
      "text/plain": [
       "Date\n",
       "2022-10-27    54.807610\n",
       "2022-10-28    55.003899\n",
       "2022-10-29    56.496178\n",
       "2022-10-30    55.389553\n",
       "2022-10-31    55.084435\n",
       "Name: Adj Close, dtype: float64"
      ]
     },
     "execution_count": 394,
     "metadata": {},
     "output_type": "execute_result"
    }
   ],
   "source": [
    "data.tail()"
   ]
  },
  {
   "cell_type": "code",
   "execution_count": 395,
   "id": "0afc63d9",
   "metadata": {},
   "outputs": [
    {
     "data": {
      "text/plain": [
       "array([<AxesSubplot:xlabel='Date'>], dtype=object)"
      ]
     },
     "execution_count": 395,
     "metadata": {},
     "output_type": "execute_result"
    },
    {
     "data": {
      "image/png": "[encoded data removed]",
      "text/plain": [
       "<Figure size 720x432 with 1 Axes>"
      ]
     },
     "metadata": {
      "needs_background": "light"
     },
     "output_type": "display_data"
    }
   ],
   "source": [
    "data.plot(figsize=(10, 6), subplots=True)"
   ]
  },
  {
   "cell_type": "markdown",
   "id": "cc17ea94",
   "metadata": {},
   "source": [
    "Three months period "
   ]
  },
  {
   "cell_type": "code",
   "execution_count": 396,
   "id": "9fdd63be",
   "metadata": {},
   "outputs": [
    {
     "data": {
      "text/plain": [
       "Date\n",
       "2022-08-01    59.535446\n",
       "2022-08-02    58.243855\n",
       "2022-08-03    57.805191\n",
       "2022-08-04    59.848576\n",
       "2022-08-05    62.401272\n",
       "Name: Adj Close, dtype: float64"
      ]
     },
     "execution_count": 396,
     "metadata": {},
     "output_type": "execute_result"
    }
   ],
   "source": [
    "df = data[-92:-1]\n",
    "df.head()"
   ]
  },
  {
   "cell_type": "code",
   "execution_count": 397,
   "id": "253c5abe",
   "metadata": {},
   "outputs": [
    {
     "data": {
      "text/plain": [
       "Date\n",
       "2022-08-01         NaN\n",
       "2022-08-02   -0.021933\n",
       "2022-08-03   -0.007560\n",
       "2022-08-04    0.034739\n",
       "2022-08-05    0.041768\n",
       "                ...   \n",
       "2022-10-26    0.006521\n",
       "2022-10-27   -0.028493\n",
       "2022-10-28    0.003575\n",
       "2022-10-29    0.026769\n",
       "2022-10-30   -0.019782\n",
       "Name: Adj Close, Length: 91, dtype: float64"
      ]
     },
     "execution_count": 397,
     "metadata": {},
     "output_type": "execute_result"
    }
   ],
   "source": [
    "log_return = np.log(df / df.shift(1))\n",
    "log_return"
   ]
  },
  {
   "cell_type": "code",
   "execution_count": 398,
   "id": "053d1bc2",
   "metadata": {},
   "outputs": [
    {
     "name": "stdout",
     "output_type": "stream",
     "text": [
      "The annualised volatility is 62.84 %\n"
     ]
    }
   ],
   "source": [
    "vol = np.sqrt(365) * log_return.std()\n",
    "print('The annualised volatility is', round(vol*100,2), '%')"
   ]
  },
  {
   "cell_type": "markdown",
   "id": "1d641dc4",
   "metadata": {},
   "source": [
    "Binomial Tree (CRR Tree)"
   ]
  },
  {
   "cell_type": "code",
   "execution_count": 399,
   "id": "d12290c7",
   "metadata": {},
   "outputs": [],
   "source": [
    "import numpy as np\n",
    "import os"
   ]
  },
  {
   "cell_type": "markdown",
   "id": "111805a5",
   "metadata": {},
   "source": [
    "Data Input"
   ]
  },
  {
   "cell_type": "code",
   "execution_count": 400,
   "id": "527359b8",
   "metadata": {},
   "outputs": [
    {
     "data": {
      "text/plain": [
       "55.38955307006836"
      ]
     },
     "execution_count": 400,
     "metadata": {},
     "output_type": "execute_result"
    }
   ],
   "source": [
    "df[-1]"
   ]
  },
  {
   "cell_type": "code",
   "execution_count": 401,
   "id": "ba63876d",
   "metadata": {},
   "outputs": [],
   "source": [
    "S0 = df[-1]              # spot stock price\n",
    "K = 52.0                 # strike\n",
    "T = 0.25                 # maturity \n",
    "r = 0.038                 # risk free rate \n",
    "sig = vol               # diffusion coefficient or volatility\n",
    "N = 2                   # number of periods or number of time steps  \n",
    "payoff = \"put\"          # payoff "
   ]
  },
  {
   "cell_type": "code",
   "execution_count": 402,
   "id": "f4a5e2da",
   "metadata": {},
   "outputs": [
    {
     "data": {
      "text/plain": [
       "0.6283737892604491"
      ]
     },
     "execution_count": 402,
     "metadata": {},
     "output_type": "execute_result"
    }
   ],
   "source": [
    "sig"
   ]
  },
  {
   "cell_type": "markdown",
   "id": "a5e12795",
   "metadata": {},
   "source": [
    "Create the binomial price tree"
   ]
  },
  {
   "cell_type": "code",
   "execution_count": 403,
   "id": "1a026a04",
   "metadata": {},
   "outputs": [],
   "source": [
    "dT = float(T) / N                             # Delta t\n",
    "u = np.exp(sig * np.sqrt(dT))                 # up factor\n",
    "d = 1.0 / u                                   # down factor "
   ]
  },
  {
   "cell_type": "code",
   "execution_count": 404,
   "id": "0f23aebd",
   "metadata": {},
   "outputs": [],
   "source": [
    "S = np.zeros((N + 1, N + 1))\n",
    "S[0, 0] = S0\n",
    "z = 1\n",
    "for t in range(1, N + 1):\n",
    "    for i in range(z):\n",
    "        S[i, t] = S[i, t-1] * u\n",
    "        S[i+1, t] = S[i, t-1] * d\n",
    "    z += 1"
   ]
  },
  {
   "cell_type": "code",
   "execution_count": 405,
   "id": "f3f31c4d",
   "metadata": {},
   "outputs": [
    {
     "data": {
      "text/plain": [
       "array([[55.38955307, 69.16913153, 86.37673517],\n",
       "       [ 0.        , 44.35508328, 55.38955307],\n",
       "       [ 0.        ,  0.        , 35.51885335]])"
      ]
     },
     "execution_count": 405,
     "metadata": {},
     "output_type": "execute_result"
    }
   ],
   "source": [
    "S"
   ]
  },
  {
   "cell_type": "code",
   "execution_count": 406,
   "id": "672b8d31",
   "metadata": {},
   "outputs": [
    {
     "data": {
      "text/plain": [
       "0.4553145020077646"
      ]
     },
     "execution_count": 406,
     "metadata": {},
     "output_type": "execute_result"
    }
   ],
   "source": [
    "a = np.exp(r * dT)    # risk free compound return\n",
    "p = (a - d)/ (u - d)  # risk neutral up probability\n",
    "q = 1.0 - p           # risk neutral down probability\n",
    "p"
   ]
  },
  {
   "cell_type": "markdown",
   "id": "99ec0d33",
   "metadata": {},
   "source": [
    " Find option value at each final node"
   ]
  },
  {
   "cell_type": "code",
   "execution_count": 407,
   "id": "972951d6",
   "metadata": {},
   "outputs": [
    {
     "data": {
      "text/plain": [
       "array([[ 0.        ,  0.        ,  0.        ],\n",
       "       [ 0.        ,  0.        ,  0.        ],\n",
       "       [ 0.        ,  0.        , 16.48114665]])"
      ]
     },
     "execution_count": 407,
     "metadata": {},
     "output_type": "execute_result"
    }
   ],
   "source": [
    "S_T = S[:,-1]\n",
    "V = np.zeros((N + 1, N + 1))\n",
    "if payoff ==\"put\":\n",
    "    V[:,-1] = np.maximum(K-S_T, 0.0)\n",
    "V\n"
   ]
  },
  {
   "cell_type": "markdown",
   "id": "67ed46fa",
   "metadata": {},
   "source": [
    "Find option value at earlier nodes\n"
   ]
  },
  {
   "cell_type": "markdown",
   "id": "1f87f9a2",
   "metadata": {},
   "source": [
    "European Option"
   ]
  },
  {
   "cell_type": "code",
   "execution_count": 408,
   "id": "e09bfff4",
   "metadata": {},
   "outputs": [
    {
     "data": {
      "text/plain": [
       "array([[ 4.8434325 ,  0.        ,  0.        ],\n",
       "       [ 0.        ,  8.93450174,  0.        ],\n",
       "       [ 0.        ,  0.        , 16.48114665]])"
      ]
     },
     "execution_count": 408,
     "metadata": {},
     "output_type": "execute_result"
    }
   ],
   "source": [
    "# for European Option\n",
    "for j in range(N-1, -1, -1):\n",
    "    for i in range(j+1):\n",
    "        V[i,j] = np.exp(-r*dT) * (p * V[i,j + 1] + q * V[i + 1,j + 1])\n",
    "V"
   ]
  },
  {
   "cell_type": "code",
   "execution_count": 409,
   "id": "09555abf",
   "metadata": {},
   "outputs": [
    {
     "name": "stdout",
     "output_type": "stream",
     "text": [
      "European put 4.8434324966892985\n"
     ]
    }
   ],
   "source": [
    "print('European ' + payoff, str( V[0,0]))"
   ]
  },
  {
   "cell_type": "markdown",
   "id": "29c3b447",
   "metadata": {},
   "source": [
    "MONTE CARLO SIMULATION"
   ]
  },
  {
   "cell_type": "code",
   "execution_count": 410,
   "id": "2e518cd0",
   "metadata": {},
   "outputs": [],
   "source": [
    "def mcs_simulation_np(p):\n",
    "    M = p\n",
    "    I = p\n",
    "    dt = T / M \n",
    "    S = np.zeros((M + 1, I))\n",
    "    S[0] = S0 \n",
    "    rn = np.random.standard_normal(S.shape) \n",
    "    for t in range(1, M + 1): \n",
    "        S[t] = S[t-1] * np.exp((r - sig ** 2 / 2) * dt + sig * np.sqrt(dt) * rn[t]) \n",
    "    return S"
   ]
  },
  {
   "cell_type": "code",
   "execution_count": 411,
   "id": "8892af0f",
   "metadata": {},
   "outputs": [],
   "source": [
    "S = mcs_simulation_np(10000)"
   ]
  },
  {
   "cell_type": "code",
   "execution_count": 412,
   "id": "3b38b324",
   "metadata": {},
   "outputs": [
    {
     "data": {
      "text/plain": [
       "array([[55.38955307, 55.56602504, 55.721359  , ..., 54.64627248,\n",
       "        54.78305869, 54.80594623],\n",
       "       [55.38955307, 55.24840048, 55.18074137, ..., 56.67330137,\n",
       "        56.69500853, 56.67878868],\n",
       "       [55.38955307, 55.56473032, 55.61040475, ..., 84.43960453,\n",
       "        84.59436459, 84.49254874],\n",
       "       ...,\n",
       "       [55.38955307, 55.32697122, 55.11490205, ..., 55.22208152,\n",
       "        55.38633553, 55.43794854],\n",
       "       [55.38955307, 55.34038158, 55.69237995, ..., 51.14445213,\n",
       "        51.07563172, 51.16188033],\n",
       "       [55.38955307, 55.36619004, 55.22600735, ..., 42.11673167,\n",
       "        42.33050267, 42.23994538]])"
      ]
     },
     "execution_count": 412,
     "metadata": {},
     "output_type": "execute_result"
    }
   ],
   "source": [
    "S = np.transpose(S)\n",
    "S"
   ]
  },
  {
   "cell_type": "code",
   "execution_count": 413,
   "id": "1e8748db",
   "metadata": {},
   "outputs": [
    {
     "data": {
      "text/plain": [
       "Text(0.5, 1.0, 'Frequency distribution of the simulated end-of-preiod values')"
      ]
     },
     "execution_count": 413,
     "metadata": {},
     "output_type": "execute_result"
    },
    {
     "data": {
      "image/png": "[encoded data removed]",
      "text/plain": [
       "<Figure size 432x288 with 1 Axes>"
      ]
     },
     "metadata": {
      "needs_background": "light"
     },
     "output_type": "display_data"
    }
   ],
   "source": [
    "import matplotlib.pyplot as plt\n",
    "n, bins, patches = plt.hist(x=S[:,-1], bins='auto', color='#0504aa',alpha=0.7, rwidth=0.85)\n",
    "\n",
    "plt.grid(axis='y', alpha=0.75)\n",
    "plt.xlabel('S_T')\n",
    "plt.ylabel('Frequency')\n",
    "plt.title('Frequency distribution of the simulated end-of-preiod values')"
   ]
  },
  {
   "cell_type": "code",
   "execution_count": 414,
   "id": "65ab7c44",
   "metadata": {},
   "outputs": [
    {
     "name": "stdout",
     "output_type": "stream",
     "text": [
      "European put 4.826356586128879\n"
     ]
    }
   ],
   "source": [
    "p = np.mean(np.maximum(K - S[:,-1],0))\n",
    "print('European put', str(p))"
   ]
  },
  {
   "cell_type": "markdown",
   "id": "b283929a",
   "metadata": {},
   "source": [
    "GREEKS"
   ]
  },
  {
   "cell_type": "markdown",
   "id": "ce0c9422",
   "metadata": {},
   "source": [
    "OPTION VALUE"
   ]
  },
  {
   "cell_type": "code",
   "execution_count": 415,
   "id": "b7220a6a",
   "metadata": {},
   "outputs": [],
   "source": [
    "import numpy as np\n",
    "import pandas as pd\n",
    "import matplotlib.pyplot as plt\n",
    "import scipy.stats as si"
   ]
  },
  {
   "cell_type": "code",
   "execution_count": 416,
   "id": "8925ce85",
   "metadata": {},
   "outputs": [],
   "source": [
    "def euro_option_bsm(S, K, T, r, q, vol, payoff):\n",
    "    \n",
    "    #S: spot price\n",
    "    #K: strike price\n",
    "    #T: time to maturity\n",
    "    #r: risk free rate\n",
    "    #q: continuous dividend yield\n",
    "    #vol: volatility of underlying asset\n",
    "    #payoff: call or put\n",
    "    \n",
    "    d1 = (np.log(S / K) + (r - q + 0.5 * vol ** 2) * T) / (vol * np.sqrt(T))\n",
    "    d2 = (np.log(S / K) + (r - q - 0.5 * vol ** 2) * T) / (vol * np.sqrt(T))\n",
    "    if payoff == \"put\":\n",
    "        option_value =  - S * np.exp(-q * T) * si.norm.cdf(-d1, 0.0, 1.0) + K * np.exp(-r * T) * si.norm.cdf(-d2, 0.0, 1.0)\n",
    "    \n",
    "    return option_value"
   ]
  },
  {
   "cell_type": "code",
   "execution_count": 417,
   "id": "50f88f6d",
   "metadata": {},
   "outputs": [
    {
     "data": {
      "text/plain": [
       "7.942834647001558"
      ]
     },
     "execution_count": 417,
     "metadata": {},
     "output_type": "execute_result"
    }
   ],
   "source": [
    "euro_option_bsm(S0,K, T,r, q, sig, 'put')"
   ]
  },
  {
   "cell_type": "code",
   "execution_count": 418,
   "id": "d1876b1e",
   "metadata": {},
   "outputs": [],
   "source": [
    "S = np.linspace(30,90,11)\n",
    "Put = np.zeros((len(S),1))\n",
    "for i in range(len(S)):\n",
    "    Put [i] = euro_option_bsm(S[i],K, T,r, q, sig, 'put' )"
   ]
  },
  {
   "cell_type": "code",
   "execution_count": 419,
   "id": "9ab1b3a9",
   "metadata": {},
   "outputs": [
    {
     "data": {
      "text/plain": [
       "<matplotlib.legend.Legend at 0x7f9e39fd2f40>"
      ]
     },
     "execution_count": 419,
     "metadata": {},
     "output_type": "execute_result"
    },
    {
     "data": {
      "image/png": "[encoded data removed]",
      "text/plain": [
       "<Figure size 432x288 with 1 Axes>"
      ]
     },
     "metadata": {
      "needs_background": "light"
     },
     "output_type": "display_data"
    }
   ],
   "source": [
    "fig = plt.figure()\n",
    "plt.plot(S, Put, '--')\n",
    "plt.grid()\n",
    "plt.xlabel('Stock Price')\n",
    "plt.ylabel('Option Price')\n",
    "plt.title('European Option')\n",
    "plt.legend(['Put'])\n"
   ]
  },
  {
   "cell_type": "markdown",
   "id": "3f054165",
   "metadata": {},
   "source": [
    "DELTA"
   ]
  },
  {
   "cell_type": "markdown",
   "id": "38cabcea",
   "metadata": {},
   "source": [
    "Delta, denotes the change rate of the theoretical option value in relation to changes in the price of the underlying asset. "
   ]
  },
  {
   "cell_type": "code",
   "execution_count": 420,
   "id": "c917d2bf",
   "metadata": {},
   "outputs": [],
   "source": [
    "def delta(S, K, T, r, q, vol, payoff):\n",
    "    \n",
    "    d1 = (np.log(S / K) + (r - q + 0.5 * vol ** 2) * T) / (vol * np.sqrt(T))\n",
    "    if payoff == \"put\":\n",
    "        delta =  - np.exp(-q * T) * si.norm.cdf(-d1, 0.0, 1.0)\n",
    "    \n",
    "    return delta\n"
   ]
  },
  {
   "cell_type": "code",
   "execution_count": 421,
   "id": "0f7f8013",
   "metadata": {},
   "outputs": [
    {
     "data": {
      "text/plain": [
       "-0.4520402598269211"
      ]
     },
     "execution_count": 421,
     "metadata": {},
     "output_type": "execute_result"
    }
   ],
   "source": [
    "delta(S0,K, T,r, q, sig, 'put')"
   ]
  },
  {
   "cell_type": "code",
   "execution_count": 422,
   "id": "5a10ccd6",
   "metadata": {},
   "outputs": [],
   "source": [
    "S = np.linspace(30,90,21)\n",
    "Delta_Put = np.zeros((len(S),1))\n",
    "for i in range(len(S)):\n",
    "    Delta_Put [i] = delta(S[i], K, T,r, q, sig, 'put')"
   ]
  },
  {
   "cell_type": "code",
   "execution_count": 423,
   "id": "92a836c1",
   "metadata": {
    "scrolled": false
   },
   "outputs": [
    {
     "data": {
      "text/plain": [
       "<matplotlib.legend.Legend at 0x7f9dd991a220>"
      ]
     },
     "execution_count": 423,
     "metadata": {},
     "output_type": "execute_result"
    },
    {
     "data": {
      "image/png": "[encoded data removed]",
      "text/plain": [
       "<Figure size 432x288 with 1 Axes>"
      ]
     },
     "metadata": {
      "needs_background": "light"
     },
     "output_type": "display_data"
    }
   ],
   "source": [
    "fig = plt.figure()\n",
    "plt.plot(S, Delta_Put, '--')\n",
    "plt.grid()\n",
    "plt.xlabel('Stock Price')\n",
    "plt.ylabel('Delta')\n",
    "plt.title('Delta')\n",
    "plt.legend(['Delta for Put'])"
   ]
  },
  {
   "cell_type": "code",
   "execution_count": 424,
   "id": "1a64ce0d",
   "metadata": {},
   "outputs": [
    {
     "name": "stdout",
     "output_type": "stream",
     "text": [
      "The value of Delta is -0.452 . If the stock price increase 1 dollar, then the value of the option will decrease $ -0.452 .\n"
     ]
    }
   ],
   "source": [
    "d = delta(S0,K, T,r, q, sig, 'put')\n",
    "print('The value of Delta is', d.round(4),'.','If the stock price increase 1 dollar, then the value of the option will decrease $', d.round(4), '.')"
   ]
  },
  {
   "cell_type": "markdown",
   "id": "16e2ca97",
   "metadata": {},
   "source": [
    "GAMMA"
   ]
  },
  {
   "cell_type": "markdown",
   "id": "482f83d7",
   "metadata": {},
   "source": [
    "Gamma, denotes the rate at which the delta changes in relation to changes in the underlying price."
   ]
  },
  {
   "cell_type": "code",
   "execution_count": 425,
   "id": "a57a8836",
   "metadata": {},
   "outputs": [],
   "source": [
    "def gamma(S, K, T, r, q, vol, payoff):\n",
    "    \n",
    "    d1 = (np.log(S / K) + (r - q + 0.5 * vol ** 2) * T) / (vol * np.sqrt(T))\n",
    "    gamma = np.exp(- q * T) * si.norm.pdf(d1, 0.0, 1.0) / (vol * S * np.sqrt(T))\n",
    "    \n",
    "    return gamma"
   ]
  },
  {
   "cell_type": "code",
   "execution_count": 426,
   "id": "5e1a9dfc",
   "metadata": {},
   "outputs": [
    {
     "data": {
      "text/plain": [
       "0.019985459373076057"
      ]
     },
     "execution_count": 426,
     "metadata": {},
     "output_type": "execute_result"
    }
   ],
   "source": [
    "gamma(S0,K, T,r, q, sig, 'put')"
   ]
  },
  {
   "cell_type": "code",
   "execution_count": 427,
   "id": "aca45769",
   "metadata": {},
   "outputs": [],
   "source": [
    "S = np.linspace(30,90,11)\n",
    "Gamma = np.zeros((len(S),1))\n",
    "for i in range(len(S)):\n",
    "    Gamma [i] = gamma(S[i],K, T,r, q, sig, 'put' )"
   ]
  },
  {
   "cell_type": "code",
   "execution_count": 428,
   "id": "ec759049",
   "metadata": {},
   "outputs": [
    {
     "data": {
      "text/plain": [
       "<matplotlib.legend.Legend at 0x7f9dd9a1c8b0>"
      ]
     },
     "execution_count": 428,
     "metadata": {},
     "output_type": "execute_result"
    },
    {
     "data": {
      "image/png": "[encoded data removed]",
      "text/plain": [
       "<Figure size 432x288 with 1 Axes>"
      ]
     },
     "metadata": {
      "needs_background": "light"
     },
     "output_type": "display_data"
    }
   ],
   "source": [
    "fig = plt.figure()\n",
    "plt.plot(S, Gamma, '-')\n",
    "plt.grid()\n",
    "plt.xlabel('Stock Price')\n",
    "plt.ylabel('Gamma')\n",
    "plt.title('Gamma')\n",
    "plt.legend(['Gamma for Put'])"
   ]
  },
  {
   "cell_type": "markdown",
   "id": "e370fa42",
   "metadata": {},
   "source": [
    "SPEED"
   ]
  },
  {
   "cell_type": "markdown",
   "id": "14c0d2d4",
   "metadata": {},
   "source": [
    "Speed expresses  the rate of change in Gamma changes in response to changes in the underlying price."
   ]
  },
  {
   "cell_type": "code",
   "execution_count": 429,
   "id": "06ccc524",
   "metadata": {},
   "outputs": [],
   "source": [
    "def speed(S, K, T, r, q, vol, payoff):\n",
    "    \n",
    "    d1 = (np.log(S / K) + (r - q + 0.5 * vol ** 2) * T) / (vol * np.sqrt(T))\n",
    "    speed = - np.exp(-q * T) * si.norm.pdf(d1, 0.0, 1.0) / ((vol **2) * (S**2) * np.sqrt(T)) * (d1 + vol * np.sqrt(T))\n",
    "    \n",
    "    return speed"
   ]
  },
  {
   "cell_type": "code",
   "execution_count": 430,
   "id": "544179ca",
   "metadata": {},
   "outputs": [
    {
     "data": {
      "text/plain": [
       "-0.00015451594455450062"
      ]
     },
     "execution_count": 430,
     "metadata": {},
     "output_type": "execute_result"
    }
   ],
   "source": [
    "speed(S0,K, T,r, q, sig, 'put')"
   ]
  },
  {
   "cell_type": "code",
   "execution_count": 431,
   "id": "e5243999",
   "metadata": {},
   "outputs": [],
   "source": [
    "S = np.linspace(30,90,11)\n",
    "Speed = np.zeros((len(S),1))\n",
    "for i in range(len(S)):\n",
    "    Speed [i] = speed(S[i],K, T,r, q, sig, 'put' ) "
   ]
  },
  {
   "cell_type": "code",
   "execution_count": 432,
   "id": "18806bbc",
   "metadata": {},
   "outputs": [
    {
     "data": {
      "text/plain": [
       "<matplotlib.legend.Legend at 0x7f9dd9afad00>"
      ]
     },
     "execution_count": 432,
     "metadata": {},
     "output_type": "execute_result"
    },
    {
     "data": {
      "image/png": "[encoded data removed]",
      "text/plain": [
       "<Figure size 432x288 with 1 Axes>"
      ]
     },
     "metadata": {
      "needs_background": "light"
     },
     "output_type": "display_data"
    }
   ],
   "source": [
    "fig = plt.figure()\n",
    "plt.plot(S, Speed, '-')\n",
    "plt.grid()\n",
    "plt.xlabel('Stock Price')\n",
    "plt.ylabel('Speed')\n",
    "plt.title('Speed')\n",
    "plt.legend(['Speed for Put'])"
   ]
  },
  {
   "cell_type": "markdown",
   "id": "c9162913",
   "metadata": {},
   "source": [
    "THETA"
   ]
  },
  {
   "cell_type": "markdown",
   "id": "a76c96e7",
   "metadata": {},
   "source": [
    "Theta captures the sensitivity of the derivative's value to the passage of time."
   ]
  },
  {
   "cell_type": "code",
   "execution_count": 433,
   "id": "6a42b265",
   "metadata": {},
   "outputs": [],
   "source": [
    "def theta(S, K, T, r, q, vol, payoff):\n",
    "    \n",
    "    d1 = (np.log(S / K) + (r - q + 0.5 * vol ** 2) * T) / (vol * np.sqrt(T))\n",
    "    d2 = (np.log(S / K) + (r - q - 0.5 * vol ** 2) * T) / (vol * np.sqrt(T))\n",
    "    if payoff == \"put\":\n",
    "        theta = vol * S * np.exp(-q * T) * si.norm.pdf(-d1, 0.0, 1.0) / (2 * np.sqrt(T)) - q * S * np.exp(-q * T) * si.norm.cdf(-d1, 0.0, 1.0) + r * K * np.exp(-r * T) * si.norm.cdf(-d2, 0.0, 1.0)\n",
    "    \n",
    "    return theta"
   ]
  },
  {
   "cell_type": "code",
   "execution_count": 434,
   "id": "8ce357c4",
   "metadata": {},
   "outputs": [
    {
     "data": {
      "text/plain": [
       "-0.2794079104168741"
      ]
     },
     "execution_count": 434,
     "metadata": {},
     "output_type": "execute_result"
    }
   ],
   "source": [
    "theta(S0, K, T,r, q, sig, 'put')"
   ]
  },
  {
   "cell_type": "code",
   "execution_count": 435,
   "id": "51a0a72f",
   "metadata": {},
   "outputs": [],
   "source": [
    "T = np.linspace(0.25,1,10)\n",
    "Theta_Put = np.zeros((len(T),1))\n",
    "for i in range(len(T)):\n",
    "    Theta_Put [i] = theta(S0,K, T[i], r, q, sig, 'put')"
   ]
  },
  {
   "cell_type": "code",
   "execution_count": 436,
   "id": "bab776dc",
   "metadata": {},
   "outputs": [
    {
     "data": {
      "text/plain": [
       "<matplotlib.legend.Legend at 0x7f9dd9c3bc10>"
      ]
     },
     "execution_count": 436,
     "metadata": {},
     "output_type": "execute_result"
    },
    {
     "data": {
      "image/png": "[encoded data removed]",
      "text/plain": [
       "<Figure size 432x288 with 1 Axes>"
      ]
     },
     "metadata": {
      "needs_background": "light"
     },
     "output_type": "display_data"
    }
   ],
   "source": [
    "fig = plt.figure()\n",
    "plt.plot(T, Theta_Put, '-')\n",
    "plt.grid()\n",
    "plt.xlabel('Time to Expiry')\n",
    "plt.ylabel('Theta')\n",
    "plt.title('Theta')\n",
    "plt.legend(['Theta for Put'])"
   ]
  },
  {
   "cell_type": "markdown",
   "id": "87ea1f20",
   "metadata": {},
   "source": [
    "VEGA"
   ]
  },
  {
   "cell_type": "markdown",
   "id": "f89e5ebe",
   "metadata": {},
   "source": [
    "Vega determines volatility sensitivity. Vega is the option value's derivative with regard to the volatility of the underlying asset."
   ]
  },
  {
   "cell_type": "code",
   "execution_count": 475,
   "id": "c77a58b3",
   "metadata": {},
   "outputs": [],
   "source": [
    "def vega(S, K, T, r, q, vol, payoff):\n",
    "    \n",
    "    d1 = (np.log(S / K) + (r - q + 0.5 * vol ** 2) * T) / (vol * np.sqrt(T))\n",
    "    vega = S * np.sqrt(T) * np.exp(-q * T) * si.norm.pdf(d1, 0.0, 1.0)\n",
    "    \n",
    "    return vega"
   ]
  },
  {
   "cell_type": "code",
   "execution_count": 477,
   "id": "498c2211",
   "metadata": {},
   "outputs": [
    {
     "data": {
      "text/plain": [
       "9.632254016828933"
      ]
     },
     "execution_count": 477,
     "metadata": {},
     "output_type": "execute_result"
    }
   ],
   "source": [
    "T = 0.25 # time to maturity is 3 months\n",
    "vega(S0,K,T,r,q,sig,'put')"
   ]
  },
  {
   "cell_type": "code",
   "execution_count": 481,
   "id": "a4d8d824",
   "metadata": {},
   "outputs": [],
   "source": [
    "vol = np.linspace(0.1,1,13)\n",
    "Vega = np.zeros((len(vol),1))\n",
    "for i in range(len(vol)):\n",
    "    Vega [i] = vega(S0, K, T, r, q, vol[i], 'put')"
   ]
  },
  {
   "cell_type": "code",
   "execution_count": 482,
   "id": "820afc62",
   "metadata": {},
   "outputs": [
    {
     "data": {
      "text/plain": [
       "<matplotlib.legend.Legend at 0x7f9dda6bcdc0>"
      ]
     },
     "execution_count": 482,
     "metadata": {},
     "output_type": "execute_result"
    },
    {
     "data": {
      "image/png": "[encoded data removed]",
      "text/plain": [
       "<Figure size 432x288 with 1 Axes>"
      ]
     },
     "metadata": {
      "needs_background": "light"
     },
     "output_type": "display_data"
    }
   ],
   "source": [
    "fig = plt.figure()\n",
    "plt.plot(vol, Vega, '-')\n",
    "plt.grid()\n",
    "plt.xlabel('Volatility')\n",
    "plt.ylabel('Vega')\n",
    "plt.title('Vega')\n",
    "plt.legend(['Vega and Put'])\n"
   ]
  },
  {
   "cell_type": "code",
   "execution_count": 483,
   "id": "3116a49b",
   "metadata": {},
   "outputs": [
    {
     "name": "stdout",
     "output_type": "stream",
     "text": [
      "The value of Vega is 9.6323 . If the volatility increases 1%, then the value of the option will increase $ 0.096323 .\n"
     ]
    }
   ],
   "source": [
    "v = vega(S0, K, T, r, q, sig, 'put')\n",
    "print('The value of Vega is', v.round(4),'.','If the volatility increases 1%, then the value of the option will increase $', v.round(4)*0.01, '.')"
   ]
  }
 ],
 "metadata": {
  "kernelspec": {
   "display_name": "Python 3 (ipykernel)",
   "language": "python",
   "name": "python3"
  },
  "language_info": {
   "codemirror_mode": {
    "name": "ipython",
    "version": 3
   },
   "file_extension": ".py",
   "mimetype": "text/x-python",
   "name": "python",
   "nbconvert_exporter": "python",
   "pygments_lexer": "ipython3",
   "version": "3.9.12"
  }
 },
 "nbformat": 4,
 "nbformat_minor": 5
}
